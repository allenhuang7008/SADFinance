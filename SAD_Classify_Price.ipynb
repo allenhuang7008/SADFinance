{
 "cells": [
  {
   "cell_type": "code",
   "execution_count": 2,
   "id": "02a9c823",
   "metadata": {},
   "outputs": [],
   "source": [
    "import torch\n",
    "import numpy as np\n",
    "import pandas as pd\n",
    "import torch.nn as nn\n",
    "import torch.optim as opt\n",
    "import torch.utils.data as data\n",
    "import matplotlib.pyplot as plt\n",
    "from datetime import datetime\n",
    "from sklearn.preprocessing import MinMaxScaler\n",
    "from sklearn.metrics import mean_squared_error\n",
    "import os\n",
    "import sys\n",
    "import pyarrow\n",
    "import pickle\n",
    "import math\n",
    "import random"
   ]
  },
  {
   "cell_type": "markdown",
   "id": "66c0a5b2",
   "metadata": {},
   "source": [
    "The existing code you have is set up for predicting exact stock price values (a regression problem) using a LSTM-based model in PyTorch, while the reference code is for predicting whether the stock price goes up or down (a binary classification problem) using another LSTM-based model. "
   ]
  },
  {
   "cell_type": "code",
   "execution_count": 54,
   "id": "d5d4a12e",
   "metadata": {},
   "outputs": [
    {
     "data": {
      "text/html": [
       "<div>\n",
       "<style scoped>\n",
       "    .dataframe tbody tr th:only-of-type {\n",
       "        vertical-align: middle;\n",
       "    }\n",
       "\n",
       "    .dataframe tbody tr th {\n",
       "        vertical-align: top;\n",
       "    }\n",
       "\n",
       "    .dataframe thead th {\n",
       "        text-align: right;\n",
       "    }\n",
       "</style>\n",
       "<table border=\"1\" class=\"dataframe\">\n",
       "  <thead>\n",
       "    <tr style=\"text-align: right;\">\n",
       "      <th></th>\n",
       "      <th>value</th>\n",
       "      <th>Volume</th>\n",
       "      <th>price</th>\n",
       "      <th>price_change</th>\n",
       "      <th>label</th>\n",
       "    </tr>\n",
       "    <tr>\n",
       "      <th>Date</th>\n",
       "      <th></th>\n",
       "      <th></th>\n",
       "      <th></th>\n",
       "      <th></th>\n",
       "      <th></th>\n",
       "    </tr>\n",
       "  </thead>\n",
       "  <tbody>\n",
       "    <tr>\n",
       "      <th>2016-01-05</th>\n",
       "      <td>9.884959e+10</td>\n",
       "      <td>2.547937e+09</td>\n",
       "      <td>38.795938</td>\n",
       "      <td>0.137461</td>\n",
       "      <td>1</td>\n",
       "    </tr>\n",
       "    <tr>\n",
       "      <th>2016-01-06</th>\n",
       "      <td>1.152943e+11</td>\n",
       "      <td>2.986486e+09</td>\n",
       "      <td>38.605324</td>\n",
       "      <td>-0.190613</td>\n",
       "      <td>0</td>\n",
       "    </tr>\n",
       "    <tr>\n",
       "      <th>2016-01-07</th>\n",
       "      <td>1.320685e+11</td>\n",
       "      <td>3.511790e+09</td>\n",
       "      <td>37.607178</td>\n",
       "      <td>-0.998146</td>\n",
       "      <td>0</td>\n",
       "    </tr>\n",
       "    <tr>\n",
       "      <th>2016-01-08</th>\n",
       "      <td>1.117577e+11</td>\n",
       "      <td>3.106335e+09</td>\n",
       "      <td>35.977341</td>\n",
       "      <td>-1.629837</td>\n",
       "      <td>0</td>\n",
       "    </tr>\n",
       "    <tr>\n",
       "      <th>2016-01-11</th>\n",
       "      <td>1.113588e+11</td>\n",
       "      <td>3.082366e+09</td>\n",
       "      <td>36.127687</td>\n",
       "      <td>0.150346</td>\n",
       "      <td>1</td>\n",
       "    </tr>\n",
       "    <tr>\n",
       "      <th>...</th>\n",
       "      <td>...</td>\n",
       "      <td>...</td>\n",
       "      <td>...</td>\n",
       "      <td>...</td>\n",
       "      <td>...</td>\n",
       "    </tr>\n",
       "    <tr>\n",
       "      <th>2018-12-21</th>\n",
       "      <td>2.847205e+11</td>\n",
       "      <td>5.484714e+09</td>\n",
       "      <td>51.911638</td>\n",
       "      <td>0.173065</td>\n",
       "      <td>1</td>\n",
       "    </tr>\n",
       "    <tr>\n",
       "      <th>2018-12-24</th>\n",
       "      <td>9.959186e+10</td>\n",
       "      <td>2.011446e+09</td>\n",
       "      <td>49.512574</td>\n",
       "      <td>-2.399064</td>\n",
       "      <td>0</td>\n",
       "    </tr>\n",
       "    <tr>\n",
       "      <th>2018-12-26</th>\n",
       "      <td>1.583556e+11</td>\n",
       "      <td>3.103169e+09</td>\n",
       "      <td>51.030299</td>\n",
       "      <td>1.517726</td>\n",
       "      <td>1</td>\n",
       "    </tr>\n",
       "    <tr>\n",
       "      <th>2018-12-27</th>\n",
       "      <td>1.496142e+11</td>\n",
       "      <td>2.945344e+09</td>\n",
       "      <td>50.796868</td>\n",
       "      <td>-0.233431</td>\n",
       "      <td>0</td>\n",
       "    </tr>\n",
       "    <tr>\n",
       "      <th>2018-12-28</th>\n",
       "      <td>1.272773e+11</td>\n",
       "      <td>2.553983e+09</td>\n",
       "      <td>49.834828</td>\n",
       "      <td>-0.962040</td>\n",
       "      <td>0</td>\n",
       "    </tr>\n",
       "  </tbody>\n",
       "</table>\n",
       "<p>752 rows × 5 columns</p>\n",
       "</div>"
      ],
      "text/plain": [
       "                   value        Volume      price  price_change  label\n",
       "Date                                                                  \n",
       "2016-01-05  9.884959e+10  2.547937e+09  38.795938      0.137461      1\n",
       "2016-01-06  1.152943e+11  2.986486e+09  38.605324     -0.190613      0\n",
       "2016-01-07  1.320685e+11  3.511790e+09  37.607178     -0.998146      0\n",
       "2016-01-08  1.117577e+11  3.106335e+09  35.977341     -1.629837      0\n",
       "2016-01-11  1.113588e+11  3.082366e+09  36.127687      0.150346      1\n",
       "...                  ...           ...        ...           ...    ...\n",
       "2018-12-21  2.847205e+11  5.484714e+09  51.911638      0.173065      1\n",
       "2018-12-24  9.959186e+10  2.011446e+09  49.512574     -2.399064      0\n",
       "2018-12-26  1.583556e+11  3.103169e+09  51.030299      1.517726      1\n",
       "2018-12-27  1.496142e+11  2.945344e+09  50.796868     -0.233431      0\n",
       "2018-12-28  1.272773e+11  2.553983e+09  49.834828     -0.962040      0\n",
       "\n",
       "[752 rows x 5 columns]"
      ]
     },
     "execution_count": 54,
     "metadata": {},
     "output_type": "execute_result"
    }
   ],
   "source": [
    "# retreive stock data\n",
    "path = '/Users/hp/SAD_Finance/stock_data_sp500_2016_2018.parquet'\n",
    "df = pd.read_parquet(path)\n",
    "\n",
    "#compute daily market price mean(stock_issued * stock_price)\n",
    "df.reset_index(inplace=True)\n",
    "df['Date'] = df['Date'].dt.date\n",
    "df['value'] = df.Close * df.Volume\n",
    "daily = df.groupby('Date').agg({'value': 'sum', 'Volume': 'sum'})\n",
    "daily['price'] = daily.value / daily.Volume\n",
    "\n",
    "# calculate daily price change\n",
    "daily['price_change'] = daily['price'].diff()\n",
    "daily.dropna(inplace=True)\n",
    "\n",
    "# assign labels: 1 if the price goes up, else 0\n",
    "daily['label'] = np.where(daily['price_change'] > 0, 1, 0)\n",
    "daily"
   ]
  },
  {
   "cell_type": "code",
   "execution_count": 55,
   "id": "5b4b833e",
   "metadata": {},
   "outputs": [],
   "source": [
    "# train, val, test split\n",
    "def time_series_split(data, val_size=0.2, test_size=0.2):\n",
    "    if type(data) != np.ndarray:\n",
    "        data = np.array(data)\n",
    "    \n",
    "    split1 = int(len(data) * (1 - test_size))\n",
    "    split2 = int(split1 * (1 - val_size))\n",
    "    train, val, test = np.split(data, [split2, split1])\n",
    "    \n",
    "    return train.reshape(-1,1), val.reshape(-1,1), test.reshape(-1,1)"
   ]
  },
  {
   "cell_type": "code",
   "execution_count": 81,
   "id": "63cb3ea8",
   "metadata": {},
   "outputs": [],
   "source": [
    "# This setup is for sequence to sequence prediction\n",
    "# With this setup, forecasting period will be loceked to the same length as the lookback period\n",
    "# Should discuss whether using this one-step-ahead forecast make sense\n",
    "def create_dataset(data, lookback):\n",
    "    n_data, n_feat = data.shape\n",
    "    X = np.empty((n_data-lookback, lookback, n_feat))\n",
    "    y = np.empty((n_data-lookback, lookback, n_feat))\n",
    "\n",
    "    for i in range(n_data-lookback):\n",
    "        feature = data[i:i+lookback]\n",
    "        target = data[i+1:i+lookback+1]\n",
    "        X[i] = feature\n",
    "        y[i] = target\n",
    "    return torch.tensor(X), torch.tensor(y)"
   ]
  },
  {
   "cell_type": "code",
   "execution_count": 100,
   "id": "053bd593",
   "metadata": {},
   "outputs": [],
   "source": [
    "class LSTMClassifier(nn.Module):\n",
    "    def __init__(self, input_dim, n_nodes, output_dim=1, n_layers=1):\n",
    "        # input is in format (batch_size, seq_len, num_features)\n",
    "        super().__init__()\n",
    "        self.input_dim = input_dim\n",
    "        self.n_nodes = n_nodes\n",
    "        self.output_dim = output_dim\n",
    "        self.n_layers = n_layers\n",
    "        \n",
    "        # Define LSTM layer(s)\n",
    "        self.lstm = nn.LSTM(self.input_dim, self.n_nodes, self.n_layers, batch_first=True)\n",
    "        \n",
    "        # Define the output layer\n",
    "        self.linear = nn.Linear(self.n_nodes, output_dim)\n",
    "        \n",
    "    def forward(self, x):\n",
    "        # output is in format (batch_size, seq_len, output_dim)\n",
    "        out, _ = self.lstm(x)\n",
    "        out = out[:, -1, :]  # We only take the last output for each sequence\n",
    "        pred = self.linear(out)\n",
    "        return pred"
   ]
  },
  {
   "cell_type": "markdown",
   "id": "dd712c00",
   "metadata": {},
   "source": [
    "This code first calculates the price change and assigns labels based on whether the price goes up or down. Then it creates datasets for the model based on these labels. The LSTM model is modified to be a classifier, and the loss function is changed to cross-entropy loss. The labels are also converted to long type, because nn.CrossEntropyLoss() requires long type. "
   ]
  },
  {
   "cell_type": "code",
   "execution_count": 101,
   "id": "c07cd5b4",
   "metadata": {},
   "outputs": [
    {
     "name": "stdout",
     "output_type": "stream",
     "text": [
      "torch.Size([479, 1, 1]) torch.Size([479, 1, 1])\n"
     ]
    }
   ],
   "source": [
    "# create train, val, test datasets\n",
    "labels = daily['label'].values\n",
    "train, val, test = time_series_split(labels)\n",
    "\n",
    "scaler = MinMaxScaler((0,1))\n",
    "scaler.fit(train)\n",
    "norm_train = scaler.transform(train)\n",
    "norm_val = scaler.transform(val)\n",
    "norm_test = scaler.transform(test)\n",
    "\n",
    "lookback = 1\n",
    "# create datasets for the model\n",
    "X_train, y_train = create_dataset(train, lookback)\n",
    "X_val, y_val = create_dataset(val, lookback)\n",
    "X_test, y_test = create_dataset(test, lookback)\n",
    "\n",
    "print(X_train.shape, y_train.shape)"
   ]
  },
  {
   "cell_type": "code",
   "execution_count": 102,
   "id": "6d315755",
   "metadata": {},
   "outputs": [],
   "source": [
    "# Convert labels to LongTensor\n",
    "y_train = y_train.type(torch.LongTensor)\n",
    "y_val = y_val.type(torch.LongTensor)\n",
    "y_test = y_test.type(torch.LongTensor)\n",
    "\n",
    "# Convert inputs to FloatTensor\n",
    "X_train = X_train.float()\n",
    "X_val = X_val.float()\n",
    "X_test = X_test.float()\n",
    "\n",
    "# Convert labels to LongTensor\n",
    "y_train = y_train.long()\n",
    "y_val = y_val.long()\n",
    "y_test = y_test.long()"
   ]
  },
  {
   "cell_type": "code",
   "execution_count": 103,
   "id": "999056ee",
   "metadata": {},
   "outputs": [],
   "source": [
    "# Hyperparameters\n",
    "#lookback = 10  # define how many timesteps to lookback\n",
    "input_dim = 1  # number of input features\n",
    "n_nodes = 64  # number of nodes in LSTM layer\n",
    "n_layers = 2  # number of LSTM layers\n",
    "output_dim = 2  # number of output features\n",
    "lr = 0.001  # learning rate\n",
    "n_epochs = 100  # number of epochs\n",
    "\n",
    "# Instantiate the model, loss function and optimizer\n",
    "model = LSTMClassifier(input_dim, n_nodes, output_dim, n_layers)\n",
    "loss_fn = nn.CrossEntropyLoss() #for binary classfication\n",
    "optimizer = torch.optim.Adam(model.parameters(), lr=lr)\n",
    "loader = data.DataLoader(data.TensorDataset(X_train, y_train), shuffle=True, batch_size=10)"
   ]
  },
  {
   "cell_type": "code",
   "execution_count": 108,
   "id": "06c543c7",
   "metadata": {},
   "outputs": [
    {
     "name": "stdout",
     "output_type": "stream",
     "text": [
      "Epoch: 0, Training Loss: 0.7832258343696594\n",
      "Epoch: 10, Training Loss: 0.6869153380393982\n",
      "Epoch: 20, Training Loss: 0.7322962284088135\n",
      "Epoch: 30, Training Loss: 0.643356204032898\n",
      "Epoch: 40, Training Loss: 0.6536702513694763\n",
      "Epoch: 50, Training Loss: 0.675787627696991\n",
      "Epoch: 60, Training Loss: 0.7416876554489136\n",
      "Epoch: 70, Training Loss: 0.6877607107162476\n",
      "Epoch: 80, Training Loss: 0.6482982635498047\n",
      "Epoch: 90, Training Loss: 0.6700018644332886\n"
     ]
    }
   ],
   "source": [
    "# Training loop\n",
    "for epoch in range(n_epochs):\n",
    "    model.train()\n",
    "    optimizer.zero_grad()\n",
    "    \n",
    "    for feat, label in loader:\n",
    "        y_pred = model(feat)\n",
    "        #print(y_pred.shape)  # Should print something like: torch.Size([10, 2])\n",
    "        label = label.squeeze()  # remove dimensions of size 1\n",
    "        #print(label.shape)  # Should print something like: torch.Size([10])\n",
    "        loss = loss_fn(y_pred, label)\n",
    "        optimizer.zero_grad()\n",
    "        loss.backward()\n",
    "        optimizer.step()    \n",
    "\n",
    "    if epoch % 10 == 0:\n",
    "        print(f\"Epoch: {epoch}, Training Loss: {loss.item()}\")"
   ]
  },
  {
   "cell_type": "code",
   "execution_count": 116,
   "id": "43f71ef9",
   "metadata": {},
   "outputs": [
    {
     "name": "stdout",
     "output_type": "stream",
     "text": [
      "Epoch: 0, Validation Loss: 0.6745826949675878, Validation Accuracy: 0.5949895615866388\n",
      "Epoch: 10, Validation Loss: 0.6748506079117457, Validation Accuracy: 0.5949895615866388\n",
      "Epoch: 20, Validation Loss: 0.6747707811494669, Validation Accuracy: 0.5949895615866388\n",
      "Epoch: 30, Validation Loss: 0.6745870225131512, Validation Accuracy: 0.5949895615866388\n",
      "Epoch: 40, Validation Loss: 0.6745210165778796, Validation Accuracy: 0.5949895615866388\n",
      "Epoch: 50, Validation Loss: 0.6748273223638535, Validation Accuracy: 0.5949895615866388\n",
      "Epoch: 60, Validation Loss: 0.6747699677944183, Validation Accuracy: 0.5949895615866388\n",
      "Epoch: 70, Validation Loss: 0.6746668592095375, Validation Accuracy: 0.5949895615866388\n",
      "Epoch: 80, Validation Loss: 0.6748462778826555, Validation Accuracy: 0.5949895615866388\n",
      "Epoch: 90, Validation Loss: 0.6746625266969204, Validation Accuracy: 0.5949895615866388\n"
     ]
    }
   ],
   "source": [
    "# Validation loop\n",
    "for epoch in range(n_epochs):\n",
    "    model.eval()  # Set the model to evaluation mode\n",
    "    val_loss = 0\n",
    "    correct = 0\n",
    "    total = 0\n",
    "\n",
    "    with torch.no_grad():\n",
    "        for feat, label in loader:  # Assuming you have a separate DataLoader for validation data\n",
    "            y_pred = model(feat)\n",
    "            label = label.squeeze()  # Remove extra dimensions if present\n",
    "            loss = loss_fn(y_pred, label)\n",
    "            val_loss += loss.item()\n",
    "\n",
    "            _, predicted = torch.max(y_pred.data, 1)\n",
    "            total += label.size(0)\n",
    "            correct += (predicted == label).sum().item()\n",
    "\n",
    "    val_loss /= len(loader)  # Compute average loss\n",
    "    val_accuracy = correct / total  # Compute accuracy\n",
    "\n",
    "    if epoch % 10 == 0:\n",
    "        print(f\"Epoch: {epoch}, Validation Loss: {val_loss}, Validation Accuracy: {val_accuracy}\")"
   ]
  },
  {
   "cell_type": "markdown",
   "id": "6a7d021c",
   "metadata": {},
   "source": [
    "ROC curve illustrates the trade-off between the true positive rate and the false positive rate at various classification thresholds. A good classifier will have a curve that is closer to the top left corner, indicating a higher true positive rate and a lower false positive rate."
   ]
  },
  {
   "cell_type": "code",
   "execution_count": 119,
   "id": "3fa46af7",
   "metadata": {},
   "outputs": [
    {
     "name": "stdout",
     "output_type": "stream",
     "text": [
      "Accuracy: 0.5933333333333334\n",
      "Precision: 0.5714285714285714\n",
      "Recall: 0.6111111111111112\n",
      "F1 Score: 0.5906040268456376\n",
      "AUC-ROC: 0.6082621082621082\n"
     ]
    }
   ],
   "source": [
    "from sklearn.metrics import accuracy_score, precision_score, recall_score, f1_score, roc_auc_score, roc_curve\n",
    "\n",
    "model.eval()\n",
    "\n",
    "# Generate predictions on the test data\n",
    "with torch.no_grad():\n",
    "    outputs = model(X_test)\n",
    "    _, predicted = torch.max(outputs.data, 1)\n",
    "\n",
    "# Convert tensor to numpy array for use with sklearn metrics\n",
    "predicted_np = predicted.numpy()\n",
    "y_test_np = y_test.numpy().flatten()\n",
    "\n",
    "# Calculate metrics\n",
    "accuracy = accuracy_score(y_test_np, predicted_np)\n",
    "precision = precision_score(y_test_np, predicted_np)\n",
    "recall = recall_score(y_test_np, predicted_np)\n",
    "f1 = f1_score(y_test_np, predicted_np)\n",
    "\n",
    "# To compute AUC-ROC we need to get the probability of the positive class\n",
    "probabilities = torch.nn.functional.softmax(outputs, dim=1)[:, 1].numpy()\n",
    "\n",
    "roc_auc = roc_auc_score(y_test_np, probabilities)\n",
    "\n",
    "print(f\"Accuracy: {accuracy}\")\n",
    "print(f\"Precision: {precision}\")\n",
    "print(f\"Recall: {recall}\")\n",
    "print(f\"F1 Score: {f1}\")\n",
    "print(f\"AUC-ROC: {roc_auc}\")"
   ]
  },
  {
   "cell_type": "code",
   "execution_count": 120,
   "id": "72e274d3",
   "metadata": {},
   "outputs": [
    {
     "data": {
      "image/png": "[encoded data removed]",
      "text/plain": [
       "<Figure size 720x576 with 1 Axes>"
      ]
     },
     "metadata": {
      "needs_background": "light"
     },
     "output_type": "display_data"
    }
   ],
   "source": [
    "# Plot the ROC curve\n",
    "fpr, tpr, _ = roc_curve(y_test_np, probabilities)\n",
    "plt.figure(figsize=(10,8))\n",
    "plt.plot(fpr, tpr, label=f\"ROC Curve (AUC = {roc_auc:.2f})\")\n",
    "plt.plot([0, 1], [0, 1], color='navy', linestyle='--')\n",
    "plt.xlim([0.0, 1.0])\n",
    "plt.ylim([0.0, 1.05])\n",
    "plt.xlabel('False Positive Rate')\n",
    "plt.ylabel('True Positive Rate')\n",
    "plt.title('Receiver Operating Characteristic')\n",
    "plt.legend(loc=\"lower right\")\n",
    "plt.show()"
   ]
  },
  {
   "cell_type": "code",
   "execution_count": null,
   "id": "99d2e357",
   "metadata": {},
   "outputs": [],
   "source": []
  }
 ],
 "metadata": {
  "kernelspec": {
   "display_name": "Python 3 (ipykernel)",
   "language": "python",
   "name": "python3"
  },
  "language_info": {
   "codemirror_mode": {
    "name": "ipython",
    "version": 3
   },
   "file_extension": ".py",
   "mimetype": "text/x-python",
   "name": "python",
   "nbconvert_exporter": "python",
   "pygments_lexer": "ipython3",
   "version": "3.9.7"
  }
 },
 "nbformat": 4,
 "nbformat_minor": 5
}
