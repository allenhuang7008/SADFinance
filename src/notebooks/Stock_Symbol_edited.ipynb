{
 "cells": [
  {
   "cell_type": "code",
   "execution_count": 19,
   "id": "e0f32e4a",
   "metadata": {},
   "outputs": [
    {
     "name": "stdout",
     "output_type": "stream",
     "text": [
      "Collecting pandas_datareader\n",
      "  Downloading pandas_datareader-0.10.0-py3-none-any.whl (109 kB)\n",
      "     -------------------------------------- 109.5/109.5 kB 6.2 MB/s eta 0:00:00\n",
      "Requirement already satisfied: requests>=2.19.0 in c:\\users\\dinos\\anaconda3\\lib\\site-packages (from pandas_datareader) (2.28.1)\n",
      "Requirement already satisfied: lxml in c:\\users\\dinos\\anaconda3\\lib\\site-packages (from pandas_datareader) (4.9.1)\n",
      "Requirement already satisfied: pandas>=0.23 in c:\\users\\dinos\\anaconda3\\lib\\site-packages (from pandas_datareader) (1.4.4)\n",
      "Requirement already satisfied: numpy>=1.18.5 in c:\\users\\dinos\\anaconda3\\lib\\site-packages (from pandas>=0.23->pandas_datareader) (1.21.5)\n",
      "Requirement already satisfied: python-dateutil>=2.8.1 in c:\\users\\dinos\\anaconda3\\lib\\site-packages (from pandas>=0.23->pandas_datareader) (2.8.2)\n",
      "Requirement already satisfied: pytz>=2020.1 in c:\\users\\dinos\\anaconda3\\lib\\site-packages (from pandas>=0.23->pandas_datareader) (2023.3)\n",
      "Requirement already satisfied: charset-normalizer<3,>=2 in c:\\users\\dinos\\anaconda3\\lib\\site-packages (from requests>=2.19.0->pandas_datareader) (2.0.4)\n",
      "Requirement already satisfied: idna<4,>=2.5 in c:\\users\\dinos\\anaconda3\\lib\\site-packages (from requests>=2.19.0->pandas_datareader) (3.3)\n",
      "Requirement already satisfied: certifi>=2017.4.17 in c:\\users\\dinos\\anaconda3\\lib\\site-packages (from requests>=2.19.0->pandas_datareader) (2022.9.14)\n",
      "Requirement already satisfied: urllib3<1.27,>=1.21.1 in c:\\users\\dinos\\anaconda3\\lib\\site-packages (from requests>=2.19.0->pandas_datareader) (1.26.11)\n",
      "Requirement already satisfied: six>=1.5 in c:\\users\\dinos\\anaconda3\\lib\\site-packages (from python-dateutil>=2.8.1->pandas>=0.23->pandas_datareader) (1.16.0)\n",
      "Installing collected packages: pandas_datareader\n",
      "Successfully installed pandas_datareader-0.10.0\n",
      "Note: you may need to restart the kernel to use updated packages.\n"
     ]
    }
   ],
   "source": [
    "#pip install yfinance"
   ]
  },
  {
   "cell_type": "code",
   "execution_count": 1,
   "id": "16233d85",
   "metadata": {},
   "outputs": [],
   "source": [
    "import yfinance as yf\n",
    "import requests\n",
    "from bs4 import BeautifulSoup\n",
    "import pandas as pd\n",
    "import numpy as np\n",
    "from datetime import datetime\n",
    "import pandas_datareader as reader"
   ]
  },
  {
   "cell_type": "code",
   "execution_count": 9,
   "id": "01568cd5",
   "metadata": {},
   "outputs": [
    {
     "data": {
      "text/plain": [
       "505"
      ]
     },
     "execution_count": 9,
     "metadata": {},
     "output_type": "execute_result"
    }
   ],
   "source": [
    "data = \"/Users/hp/SAD_Finance/constituents_csv.csv\"\n",
    "#data = \"/Users/hp/SAD_Finance/nasdaq_screener_1686545341556.csv\"\n",
    "stock=pd.read_csv(data)\n",
    "len(stock)"
   ]
  },
  {
   "cell_type": "code",
   "execution_count": 10,
   "id": "f06d0f10",
   "metadata": {},
   "outputs": [
    {
     "data": {
      "text/plain": [
       "0       MMM\n",
       "1       AOS\n",
       "2       ABT\n",
       "3      ABBV\n",
       "4      ABMD\n",
       "       ... \n",
       "500     YUM\n",
       "501    ZBRA\n",
       "502     ZBH\n",
       "503    ZION\n",
       "504     ZTS\n",
       "Name: Symbol, Length: 505, dtype: object"
      ]
     },
     "execution_count": 10,
     "metadata": {},
     "output_type": "execute_result"
    }
   ],
   "source": [
    "stock['Symbol']"
   ]
  },
  {
   "cell_type": "code",
   "execution_count": 4,
   "id": "789919c5",
   "metadata": {},
   "outputs": [
    {
     "data": {
      "text/plain": [
       "'stock1 = stock[0:1000]\\nstock1\\nstock_symbol1 = stock1[\"Symbol\"]\\nsymbol1 = stock_symbol1.tolist()\\n\\ntest_symbol = [\\'A\\',\\'AA\\',\\'AAC\\',\\'AACG\\',\\'AACI\\',\\'AACIU\\',\\'AACIW\\',\\'AADI\\',\\'AAIC\\',\\'AAIC^B\\',\\'AAIC^C\\',\\'AAIN\\']\\ntest_symbol1=[\\'BOOT\\',\\'A\\']\\n'"
      ]
     },
     "execution_count": 4,
     "metadata": {},
     "output_type": "execute_result"
    }
   ],
   "source": [
    "'''stock1 = stock[0:1000]\n",
    "stock1\n",
    "stock_symbol1 = stock1[\"Symbol\"]\n",
    "symbol1 = stock_symbol1.tolist()\n",
    "\n",
    "test_symbol = ['A','AA','AAC','AACG','AACI','AACIU','AACIW','AADI','AAIC','AAIC^B','AAIC^C','AAIN']\n",
    "test_symbol1=['BOOT','A']\n",
    "'''"
   ]
  },
  {
   "cell_type": "code",
   "execution_count": 11,
   "id": "f0c52959",
   "metadata": {},
   "outputs": [],
   "source": [
    "def stock_info(symbol):\n",
    "    try:\n",
    "        ticker = yf.Ticker(symbol)\n",
    "    except AttributeError:\n",
    "        return(pd.DataFrame(columns=['Date','Open','High','Low','Close','Volume','Dividends','Stock Splits','Symbol']))\n",
    "    # Set the start and end dates for data retrieval\n",
    "    start_date = datetime(2009, 1, 1)\n",
    "    end_date = datetime(2019, 12, 31)\n",
    "    historical_data = ticker.history(start=start_date, end=end_date, interval='1d')\n",
    "    historical_data['Symbol']=symbol\n",
    "    return(historical_data)"
   ]
  },
  {
   "cell_type": "code",
   "execution_count": 12,
   "id": "e7202d3e",
   "metadata": {},
   "outputs": [
    {
     "name": "stderr",
     "output_type": "stream",
     "text": [
      "ERROR ZIVOW: Period '1mo' is invalid, must be one of ['1d', '5d']\n"
     ]
    },
    {
     "data": {
      "text/html": [
       "<div>\n",
       "<style scoped>\n",
       "    .dataframe tbody tr th:only-of-type {\n",
       "        vertical-align: middle;\n",
       "    }\n",
       "\n",
       "    .dataframe tbody tr th {\n",
       "        vertical-align: top;\n",
       "    }\n",
       "\n",
       "    .dataframe thead th {\n",
       "        text-align: right;\n",
       "    }\n",
       "</style>\n",
       "<table border=\"1\" class=\"dataframe\">\n",
       "  <thead>\n",
       "    <tr style=\"text-align: right;\">\n",
       "      <th></th>\n",
       "      <th>Open</th>\n",
       "      <th>High</th>\n",
       "      <th>Low</th>\n",
       "      <th>Close</th>\n",
       "      <th>Adj Close</th>\n",
       "      <th>Volume</th>\n",
       "    </tr>\n",
       "    <tr>\n",
       "      <th>Date</th>\n",
       "      <th></th>\n",
       "      <th></th>\n",
       "      <th></th>\n",
       "      <th></th>\n",
       "      <th></th>\n",
       "      <th></th>\n",
       "    </tr>\n",
       "  </thead>\n",
       "  <tbody>\n",
       "  </tbody>\n",
       "</table>\n",
       "</div>"
      ],
      "text/plain": [
       "Empty DataFrame\n",
       "Columns: [Open, High, Low, Close, Adj Close, Volume]\n",
       "Index: []"
      ]
     },
     "execution_count": 12,
     "metadata": {},
     "output_type": "execute_result"
    }
   ],
   "source": [
    "ticker = yf.Ticker('ZIVOW')\n",
    "\n",
    "    # Set the start and end dates for data retrieval\n",
    "start_date = datetime(2009, 1, 1)\n",
    "end_date = datetime(2019, 12, 31)\n",
    "ticker.history(start=start_date, end=end_date, interval='1d')"
   ]
  },
  {
   "cell_type": "code",
   "execution_count": 13,
   "id": "90680081",
   "metadata": {},
   "outputs": [
    {
     "name": "stderr",
     "output_type": "stream",
     "text": [
      "ERROR ANTM: No timezone found, symbol may be delisted\n",
      "ERROR BLL: No timezone found, symbol may be delisted\n",
      "ERROR BRK.B: No timezone found, symbol may be delisted\n",
      "ERROR BF.B: No price data found, symbol may be delisted (1d 2009-01-01 00:00:00 -> 2019-12-31 00:00:00)\n",
      "ERROR CARR: Data doesn't exist for startDate = 1230786000, endDate = 1577768400\n",
      "ERROR CERN: No timezone found, symbol may be delisted\n",
      "ERROR CTXS: No timezone found, symbol may be delisted\n",
      "ERROR DISCA: No timezone found, symbol may be delisted\n",
      "ERROR DISCK: No timezone found, symbol may be delisted\n",
      "ERROR DRE: No timezone found, symbol may be delisted\n",
      "ERROR FB: No timezone found, symbol may be delisted\n",
      "ERROR FRC: No timezone found, symbol may be delisted\n",
      "ERROR FISV: No data found, symbol may be delisted\n",
      "ERROR FBHS: No timezone found, symbol may be delisted\n",
      "ERROR INFO: No timezone found, symbol may be delisted\n",
      "ERROR KSU: No timezone found, symbol may be delisted\n",
      "ERROR NLSN: No timezone found, symbol may be delisted\n",
      "ERROR NLOK: No timezone found, symbol may be delisted\n",
      "ERROR OGN: Data doesn't exist for startDate = 1230786000, endDate = 1577768400\n",
      "ERROR OTIS: Data doesn't exist for startDate = 1230786000, endDate = 1577768400\n",
      "ERROR PBCT: No timezone found, symbol may be delisted\n",
      "ERROR PKI: No data found, symbol may be delisted\n",
      "ERROR SIVB: No timezone found, symbol may be delisted\n",
      "ERROR TWTR: No timezone found, symbol may be delisted\n",
      "ERROR VIAC: No timezone found, symbol may be delisted\n",
      "ERROR WLTW: No timezone found, symbol may be delisted\n",
      "ERROR XLNX: No timezone found, symbol may be delisted\n"
     ]
    }
   ],
   "source": [
    "data=pd.concat([stock_info(stock) for stock in stock['Symbol']])"
   ]
  },
  {
   "cell_type": "code",
   "execution_count": 28,
   "id": "b6588d19",
   "metadata": {},
   "outputs": [
    {
     "data": {
      "text/html": [
       "<div>\n",
       "<style scoped>\n",
       "    .dataframe tbody tr th:only-of-type {\n",
       "        vertical-align: middle;\n",
       "    }\n",
       "\n",
       "    .dataframe tbody tr th {\n",
       "        vertical-align: top;\n",
       "    }\n",
       "\n",
       "    .dataframe thead th {\n",
       "        text-align: right;\n",
       "    }\n",
       "</style>\n",
       "<table border=\"1\" class=\"dataframe\">\n",
       "  <thead>\n",
       "    <tr style=\"text-align: right;\">\n",
       "      <th></th>\n",
       "      <th>Open</th>\n",
       "      <th>High</th>\n",
       "      <th>Low</th>\n",
       "      <th>Close</th>\n",
       "      <th>Volume</th>\n",
       "      <th>Dividends</th>\n",
       "      <th>Stock Splits</th>\n",
       "      <th>Symbol</th>\n",
       "      <th>Adj Close</th>\n",
       "    </tr>\n",
       "    <tr>\n",
       "      <th>Date</th>\n",
       "      <th></th>\n",
       "      <th></th>\n",
       "      <th></th>\n",
       "      <th></th>\n",
       "      <th></th>\n",
       "      <th></th>\n",
       "      <th></th>\n",
       "      <th></th>\n",
       "      <th></th>\n",
       "    </tr>\n",
       "  </thead>\n",
       "  <tbody>\n",
       "    <tr>\n",
       "      <th>2009-01-02 00:00:00-05:00</th>\n",
       "      <td>37.453072</td>\n",
       "      <td>38.650529</td>\n",
       "      <td>37.433549</td>\n",
       "      <td>38.520370</td>\n",
       "      <td>5313900.0</td>\n",
       "      <td>0.0</td>\n",
       "      <td>0.0</td>\n",
       "      <td>MMM</td>\n",
       "      <td>NaN</td>\n",
       "    </tr>\n",
       "    <tr>\n",
       "      <th>2009-01-05 00:00:00-05:00</th>\n",
       "      <td>38.260050</td>\n",
       "      <td>38.455287</td>\n",
       "      <td>37.817511</td>\n",
       "      <td>38.071320</td>\n",
       "      <td>3768800.0</td>\n",
       "      <td>0.0</td>\n",
       "      <td>0.0</td>\n",
       "      <td>MMM</td>\n",
       "      <td>NaN</td>\n",
       "    </tr>\n",
       "    <tr>\n",
       "      <th>2009-01-06 00:00:00-05:00</th>\n",
       "      <td>38.227516</td>\n",
       "      <td>38.923863</td>\n",
       "      <td>38.142912</td>\n",
       "      <td>38.520370</td>\n",
       "      <td>4966200.0</td>\n",
       "      <td>0.0</td>\n",
       "      <td>0.0</td>\n",
       "      <td>MMM</td>\n",
       "      <td>NaN</td>\n",
       "    </tr>\n",
       "    <tr>\n",
       "      <th>2009-01-07 00:00:00-05:00</th>\n",
       "      <td>38.142917</td>\n",
       "      <td>38.370693</td>\n",
       "      <td>37.472602</td>\n",
       "      <td>37.791489</td>\n",
       "      <td>4598100.0</td>\n",
       "      <td>0.0</td>\n",
       "      <td>0.0</td>\n",
       "      <td>MMM</td>\n",
       "      <td>NaN</td>\n",
       "    </tr>\n",
       "    <tr>\n",
       "      <th>2009-01-08 00:00:00-05:00</th>\n",
       "      <td>37.537673</td>\n",
       "      <td>38.207988</td>\n",
       "      <td>37.387991</td>\n",
       "      <td>38.123386</td>\n",
       "      <td>3944900.0</td>\n",
       "      <td>0.0</td>\n",
       "      <td>0.0</td>\n",
       "      <td>MMM</td>\n",
       "      <td>NaN</td>\n",
       "    </tr>\n",
       "    <tr>\n",
       "      <th>...</th>\n",
       "      <td>...</td>\n",
       "      <td>...</td>\n",
       "      <td>...</td>\n",
       "      <td>...</td>\n",
       "      <td>...</td>\n",
       "      <td>...</td>\n",
       "      <td>...</td>\n",
       "      <td>...</td>\n",
       "      <td>...</td>\n",
       "    </tr>\n",
       "    <tr>\n",
       "      <th>2019-12-23 00:00:00-05:00</th>\n",
       "      <td>129.406652</td>\n",
       "      <td>129.747931</td>\n",
       "      <td>128.119502</td>\n",
       "      <td>129.075104</td>\n",
       "      <td>1632300.0</td>\n",
       "      <td>0.0</td>\n",
       "      <td>0.0</td>\n",
       "      <td>ZTS</td>\n",
       "      <td>NaN</td>\n",
       "    </tr>\n",
       "    <tr>\n",
       "      <th>2019-12-24 00:00:00-05:00</th>\n",
       "      <td>128.919055</td>\n",
       "      <td>129.767395</td>\n",
       "      <td>128.021943</td>\n",
       "      <td>129.611374</td>\n",
       "      <td>442500.0</td>\n",
       "      <td>0.0</td>\n",
       "      <td>0.0</td>\n",
       "      <td>ZTS</td>\n",
       "      <td>NaN</td>\n",
       "    </tr>\n",
       "    <tr>\n",
       "      <th>2019-12-26 00:00:00-05:00</th>\n",
       "      <td>129.874634</td>\n",
       "      <td>129.874634</td>\n",
       "      <td>129.026294</td>\n",
       "      <td>129.718613</td>\n",
       "      <td>929400.0</td>\n",
       "      <td>0.0</td>\n",
       "      <td>0.0</td>\n",
       "      <td>ZTS</td>\n",
       "      <td>NaN</td>\n",
       "    </tr>\n",
       "    <tr>\n",
       "      <th>2019-12-27 00:00:00-05:00</th>\n",
       "      <td>130.079427</td>\n",
       "      <td>130.157437</td>\n",
       "      <td>129.084827</td>\n",
       "      <td>129.933167</td>\n",
       "      <td>1296100.0</td>\n",
       "      <td>0.0</td>\n",
       "      <td>0.0</td>\n",
       "      <td>ZTS</td>\n",
       "      <td>NaN</td>\n",
       "    </tr>\n",
       "    <tr>\n",
       "      <th>2019-12-30 00:00:00-05:00</th>\n",
       "      <td>130.245215</td>\n",
       "      <td>130.332971</td>\n",
       "      <td>128.529015</td>\n",
       "      <td>128.919067</td>\n",
       "      <td>942000.0</td>\n",
       "      <td>0.0</td>\n",
       "      <td>0.0</td>\n",
       "      <td>ZTS</td>\n",
       "      <td>NaN</td>\n",
       "    </tr>\n",
       "  </tbody>\n",
       "</table>\n",
       "<p>1256416 rows × 9 columns</p>\n",
       "</div>"
      ],
      "text/plain": [
       "                                 Open        High         Low       Close  \\\n",
       "Date                                                                        \n",
       "2009-01-02 00:00:00-05:00   37.453072   38.650529   37.433549   38.520370   \n",
       "2009-01-05 00:00:00-05:00   38.260050   38.455287   37.817511   38.071320   \n",
       "2009-01-06 00:00:00-05:00   38.227516   38.923863   38.142912   38.520370   \n",
       "2009-01-07 00:00:00-05:00   38.142917   38.370693   37.472602   37.791489   \n",
       "2009-01-08 00:00:00-05:00   37.537673   38.207988   37.387991   38.123386   \n",
       "...                               ...         ...         ...         ...   \n",
       "2019-12-23 00:00:00-05:00  129.406652  129.747931  128.119502  129.075104   \n",
       "2019-12-24 00:00:00-05:00  128.919055  129.767395  128.021943  129.611374   \n",
       "2019-12-26 00:00:00-05:00  129.874634  129.874634  129.026294  129.718613   \n",
       "2019-12-27 00:00:00-05:00  130.079427  130.157437  129.084827  129.933167   \n",
       "2019-12-30 00:00:00-05:00  130.245215  130.332971  128.529015  128.919067   \n",
       "\n",
       "                              Volume  Dividends  Stock Splits Symbol  \\\n",
       "Date                                                                   \n",
       "2009-01-02 00:00:00-05:00  5313900.0        0.0           0.0    MMM   \n",
       "2009-01-05 00:00:00-05:00  3768800.0        0.0           0.0    MMM   \n",
       "2009-01-06 00:00:00-05:00  4966200.0        0.0           0.0    MMM   \n",
       "2009-01-07 00:00:00-05:00  4598100.0        0.0           0.0    MMM   \n",
       "2009-01-08 00:00:00-05:00  3944900.0        0.0           0.0    MMM   \n",
       "...                              ...        ...           ...    ...   \n",
       "2019-12-23 00:00:00-05:00  1632300.0        0.0           0.0    ZTS   \n",
       "2019-12-24 00:00:00-05:00   442500.0        0.0           0.0    ZTS   \n",
       "2019-12-26 00:00:00-05:00   929400.0        0.0           0.0    ZTS   \n",
       "2019-12-27 00:00:00-05:00  1296100.0        0.0           0.0    ZTS   \n",
       "2019-12-30 00:00:00-05:00   942000.0        0.0           0.0    ZTS   \n",
       "\n",
       "                           Adj Close  \n",
       "Date                                  \n",
       "2009-01-02 00:00:00-05:00        NaN  \n",
       "2009-01-05 00:00:00-05:00        NaN  \n",
       "2009-01-06 00:00:00-05:00        NaN  \n",
       "2009-01-07 00:00:00-05:00        NaN  \n",
       "2009-01-08 00:00:00-05:00        NaN  \n",
       "...                              ...  \n",
       "2019-12-23 00:00:00-05:00        NaN  \n",
       "2019-12-24 00:00:00-05:00        NaN  \n",
       "2019-12-26 00:00:00-05:00        NaN  \n",
       "2019-12-27 00:00:00-05:00        NaN  \n",
       "2019-12-30 00:00:00-05:00        NaN  \n",
       "\n",
       "[1256416 rows x 9 columns]"
      ]
     },
     "execution_count": 28,
     "metadata": {},
     "output_type": "execute_result"
    }
   ],
   "source": [
    "data"
   ]
  },
  {
   "cell_type": "code",
   "execution_count": 15,
   "id": "8db53250",
   "metadata": {},
   "outputs": [],
   "source": [
    "data.to_csv('/Users/hp/SAD_Finance/stock_data_2009_2019.csv')"
   ]
  },
  {
   "cell_type": "code",
   "execution_count": 17,
   "id": "69040d42",
   "metadata": {},
   "outputs": [
    {
     "name": "stdout",
     "output_type": "stream",
     "text": [
      "Collecting pyarrow\n",
      "  Downloading pyarrow-12.0.1-cp39-cp39-macosx_10_14_x86_64.whl (24.8 MB)\n",
      "\u001b[K     |████████████████████████████████| 24.8 MB 30.4 MB/s eta 0:00:01\n",
      "\u001b[?25hRequirement already satisfied: numpy>=1.16.6 in /Users/hp/opt/anaconda3/lib/python3.9/site-packages (from pyarrow) (1.20.3)\n",
      "Installing collected packages: pyarrow\n",
      "Successfully installed pyarrow-12.0.1\n",
      "Note: you may need to restart the kernel to use updated packages.\n"
     ]
    }
   ],
   "source": [
    "pip install pyarrow"
   ]
  },
  {
   "cell_type": "code",
   "execution_count": 30,
   "id": "8baa4fbc",
   "metadata": {},
   "outputs": [],
   "source": [
    "data.to_parquet('/Users/hp/SAD_Finance/stock_data_sp500_2009_2019.parquet')"
   ]
  },
  {
   "cell_type": "code",
   "execution_count": 17,
   "id": "9b9cffaa",
   "metadata": {},
   "outputs": [
    {
     "data": {
      "text/plain": [
       "478"
      ]
     },
     "execution_count": 17,
     "metadata": {},
     "output_type": "execute_result"
    }
   ],
   "source": [
    "len(set(data['Symbol']))"
   ]
  },
  {
   "cell_type": "code",
   "execution_count": 19,
   "id": "191def49",
   "metadata": {},
   "outputs": [],
   "source": [
    "import pyarrow as pa\n",
    "import pyarrow.parquet as pq"
   ]
  },
  {
   "cell_type": "code",
   "execution_count": 31,
   "id": "7b8ce0ba",
   "metadata": {},
   "outputs": [],
   "source": [
    "num_splits = 2\n",
    "split_dfs = np.array_split(data, num_splits)"
   ]
  },
  {
   "cell_type": "code",
   "execution_count": 32,
   "id": "ae7c637f",
   "metadata": {},
   "outputs": [
    {
     "name": "stdout",
     "output_type": "stream",
     "text": [
      "Saved /Users/hp/SAD_Finance/stock_data_sp500_2009_2019_0.parquet\n",
      "Saved /Users/hp/SAD_Finance/stock_data_sp500_2009_2019_1.parquet\n"
     ]
    }
   ],
   "source": [
    "output_directory = '/Users/hp/SAD_Finance/'\n",
    "\n",
    "for i, split_df in enumerate(split_dfs):\n",
    "    output_filename = f\"stock_data_sp500_2009_2019_{i}.parquet\"\n",
    "    output_path = output_directory + output_filename\n",
    "    table = pa.Table.from_pandas(split_df)\n",
    "    pq.write_table(table, output_path)\n",
    "    print(f\"Saved {output_path}\")"
   ]
  },
  {
   "cell_type": "code",
   "execution_count": null,
   "id": "9b409934",
   "metadata": {},
   "outputs": [],
   "source": []
  }
 ],
 "metadata": {
  "kernelspec": {
   "display_name": "Python 3 (ipykernel)",
   "language": "python",
   "name": "python3"
  },
  "language_info": {
   "codemirror_mode": {
    "name": "ipython",
    "version": 3
   },
   "file_extension": ".py",
   "mimetype": "text/x-python",
   "name": "python",
   "nbconvert_exporter": "python",
   "pygments_lexer": "ipython3",
   "version": "3.9.7"
  }
 },
 "nbformat": 4,
 "nbformat_minor": 5
}
